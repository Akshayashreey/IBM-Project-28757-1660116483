{
  "cells": [
    {
      "cell_type": "markdown",
      "metadata": {
        "id": "5ItrZbtf9e1R"
      },
      "source": [
        "#*FOR BODY DAMAGE*"
      ],
      "id": "5ItrZbtf9e1R"
    },
    {
      "cell_type": "markdown",
      "metadata": {
        "id": "4upSLiyHPvUM"
      },
      "source": [
        "#**IMAGE PRE PROCESSING**"
      ],
      "id": "4upSLiyHPvUM"
    },
    {
      "cell_type": "markdown",
      "metadata": {
        "id": "tUX-npw8QLd4"
      },
      "source": [
        "**1. Import The ImageDataGenerator Library**"
      ],
      "id": "tUX-npw8QLd4"
    },
    {
      "cell_type": "code",
      "execution_count": null,
      "metadata": {
        "id": "Q7W0zx0AQSp3"
      },
      "outputs": [],
      "source": [
        "from tensorflow.keras.preprocessing.image import ImageDataGenerator"
      ],
      "id": "Q7W0zx0AQSp3"
    },
    {
      "cell_type": "markdown",
      "metadata": {
        "id": "x8_hBR44QbD1"
      },
      "source": [
        "**2. Configure ImageDataGenerator Class**"
      ],
      "id": "x8_hBR44QbD1"
    },
    {
      "cell_type": "code",
      "execution_count": null,
      "metadata": {
        "id": "pkNMQpIWQnON"
      },
      "outputs": [],
      "source": [
        "train_datagen = ImageDataGenerator(rescale = 1./255,\n",
        "                                   shear_range = 0.1,\n",
        "                                   zoom_range = 0.1,\n",
        "                                   horizontal_flip = True)\n",
        "\n",
        "test_datagen = ImageDataGenerator(rescale = 1./255)"
      ],
      "id": "pkNMQpIWQnON"
    },
    {
      "cell_type": "markdown",
      "metadata": {
        "id": "moSZOIw2Qym_"
      },
      "source": [
        "**3. Apply ImageDataGenerator Functionality To Trainset And Testset**"
      ],
      "id": "moSZOIw2Qym_"
    },
    {
      "cell_type": "code",
      "execution_count": 20,
      "metadata": {
        "id": "GQyTFq7Z7bx4",
        "colab": {
          "base_uri": "https://localhost:8080/",
          "height": 0
        },
        "outputId": "2cf97eac-cb7c-47ce-9d81-05d7f2dd3188"
      },
      "outputs": [
        {
          "output_type": "stream",
          "name": "stdout",
          "text": [
            "Drive already mounted at /content/drive; to attempt to forcibly remount, call drive.mount(\"/content/drive\", force_remount=True).\n"
          ]
        }
      ],
      "source": [
        "from google.colab import drive\n",
        "drive.mount('/content/drive')"
      ],
      "id": "GQyTFq7Z7bx4"
    },
    {
      "cell_type": "code",
      "execution_count": null,
      "metadata": {
        "colab": {
          "base_uri": "https://localhost:8080/"
        },
        "id": "4ZBW4-s0RRsv",
        "outputId": "3656f5a5-2035-47bc-ea13-a9b9bafd143a"
      },
      "outputs": [
        {
          "output_type": "stream",
          "name": "stdout",
          "text": [
            "Found 979 images belonging to 3 classes.\n",
            "Found 171 images belonging to 3 classes.\n"
          ]
        }
      ],
      "source": [
        "training_set = train_datagen.flow_from_directory('/content/drive/MyDrive/Car_damage/body/training',\n",
        "                                                 target_size=(224, 224),\n",
        "                                                 batch_size=10,\n",
        "                                                 class_mode='categorical')\n",
        "test_set = test_datagen.flow_from_directory('/content/drive/MyDrive/Car_damage/body/validation',\n",
        "                                            target_size=(224, 224),\n",
        "                                            batch_size=10,\n",
        "                                            class_mode='categorical')"
      ],
      "id": "4ZBW4-s0RRsv"
    },
    {
      "cell_type": "markdown",
      "metadata": {
        "id": "TTQOiEz4S5z1"
      },
      "source": [
        "#**MODEL BUILDING**"
      ],
      "id": "TTQOiEz4S5z1"
    },
    {
      "cell_type": "markdown",
      "metadata": {
        "id": "KbEn8IpjTLPG"
      },
      "source": [
        "**1. Importing The Model Building Libraries**"
      ],
      "id": "KbEn8IpjTLPG"
    },
    {
      "cell_type": "code",
      "execution_count": null,
      "metadata": {
        "id": "tWJ6eJW6TcmJ"
      },
      "outputs": [],
      "source": [
        "import tensorflow as tf\n",
        "from tensorflow.keras.layers import Input, Lambda, Dense, Flatten\n",
        "from tensorflow.keras.models import Model\n",
        "from tensorflow.keras.applications.vgg16 import VGG16\n",
        "from tensorflow.keras.applications.vgg19 import VGG19\n",
        "from tensorflow.keras.preprocessing import image\n",
        "from tensorflow.keras.preprocessing.image import ImageDataGenerator,load_img\n",
        "from tensorflow.keras.models import Sequential\n",
        "import numpy as np\n",
        "from glob import glob"
      ],
      "id": "tWJ6eJW6TcmJ"
    },
    {
      "cell_type": "markdown",
      "metadata": {
        "id": "1PlnSBzYT2Yz"
      },
      "source": [
        "**2. Loading The Model**"
      ],
      "id": "1PlnSBzYT2Yz"
    },
    {
      "cell_type": "code",
      "execution_count": null,
      "metadata": {
        "id": "xv2opFfyT-jc"
      },
      "outputs": [],
      "source": [
        "IMAGE_SIZE = [224, 224]\n",
        "\n",
        "train_path = '/content/drive/MyDrive/Car_damage/body/training'\n",
        "valid_path = '/content/drive/MyDrive/Car_damage/body/validation'"
      ],
      "id": "xv2opFfyT-jc"
    },
    {
      "cell_type": "code",
      "execution_count": null,
      "metadata": {
        "colab": {
          "base_uri": "https://localhost:8080/"
        },
        "id": "868dPp7PUNvQ",
        "outputId": "2dccb627-ca97-4fb8-fbc8-84fefb6579aa"
      },
      "outputs": [
        {
          "output_type": "stream",
          "name": "stdout",
          "text": [
            "Downloading data from https://storage.googleapis.com/tensorflow/keras-applications/vgg16/vgg16_weights_tf_dim_ordering_tf_kernels_notop.h5\n",
            "58889256/58889256 [==============================] - 0s 0us/step\n"
          ]
        }
      ],
      "source": [
        "vgg16 = VGG16(input_shape=IMAGE_SIZE + [3], weights='imagenet', include_top=False)"
      ],
      "id": "868dPp7PUNvQ"
    },
    {
      "cell_type": "markdown",
      "metadata": {
        "id": "z2MxTpR6UbH4"
      },
      "source": [
        "**3. Adding Flatten Layer**"
      ],
      "id": "z2MxTpR6UbH4"
    },
    {
      "cell_type": "code",
      "execution_count": null,
      "metadata": {
        "id": "6guFasPkUmBb"
      },
      "outputs": [],
      "source": [
        "for layer in vgg16.layers:\n",
        "    layer.trainable = False"
      ],
      "id": "6guFasPkUmBb"
    },
    {
      "cell_type": "code",
      "execution_count": null,
      "metadata": {
        "id": "QtflKLI4VE03"
      },
      "outputs": [],
      "source": [
        "folders = glob('/content/drive/MyDrive/Car_damage/body/training/*')"
      ],
      "id": "QtflKLI4VE03"
    },
    {
      "cell_type": "code",
      "execution_count": null,
      "metadata": {
        "colab": {
          "base_uri": "https://localhost:8080/"
        },
        "id": "vBz2KdQHVYiM",
        "outputId": "ba7354ae-d56e-4824-ec6d-244dbb34d02e"
      },
      "outputs": [
        {
          "output_type": "execute_result",
          "data": {
            "text/plain": [
              "['/content/drive/MyDrive/Car_damage/body/training/02-side',\n",
              " '/content/drive/MyDrive/Car_damage/body/training/01-rear',\n",
              " '/content/drive/MyDrive/Car_damage/body/training/00-front']"
            ]
          },
          "metadata": {},
          "execution_count": 10
        }
      ],
      "source": [
        "folders"
      ],
      "id": "vBz2KdQHVYiM"
    },
    {
      "cell_type": "code",
      "execution_count": null,
      "metadata": {
        "id": "1FPaK-UVVglq"
      },
      "outputs": [],
      "source": [
        "x = Flatten()(vgg16.output)"
      ],
      "id": "1FPaK-UVVglq"
    },
    {
      "cell_type": "code",
      "execution_count": null,
      "metadata": {
        "colab": {
          "base_uri": "https://localhost:8080/"
        },
        "id": "R5O-b7pKV68Z",
        "outputId": "4dc2a88b-0f78-4491-fe6e-ac118b55c309"
      },
      "outputs": [
        {
          "output_type": "execute_result",
          "data": {
            "text/plain": [
              "3"
            ]
          },
          "metadata": {},
          "execution_count": 12
        }
      ],
      "source": [
        "len(folders)"
      ],
      "id": "R5O-b7pKV68Z"
    },
    {
      "cell_type": "markdown",
      "metadata": {
        "id": "GdsssvaiVr5B"
      },
      "source": [
        "**4. Adding Output Layer**"
      ],
      "id": "GdsssvaiVr5B"
    },
    {
      "cell_type": "code",
      "execution_count": null,
      "metadata": {
        "id": "gSuix9FSVyds"
      },
      "outputs": [],
      "source": [
        "prediction = Dense(len(folders), activation='softmax')(x)"
      ],
      "id": "gSuix9FSVyds"
    },
    {
      "cell_type": "markdown",
      "metadata": {
        "id": "rc9LIgROWJv4"
      },
      "source": [
        "**5. Creating A Model Object**"
      ],
      "id": "rc9LIgROWJv4"
    },
    {
      "cell_type": "code",
      "execution_count": null,
      "metadata": {
        "id": "CXHsIv3wWTqm"
      },
      "outputs": [],
      "source": [
        "model = Model(inputs=vgg16.input, outputs=prediction)"
      ],
      "id": "CXHsIv3wWTqm"
    },
    {
      "cell_type": "code",
      "execution_count": null,
      "metadata": {
        "colab": {
          "base_uri": "https://localhost:8080/"
        },
        "id": "e11FiA_hWcpe",
        "outputId": "a22363d1-e5ff-4755-8e91-93864c397090"
      },
      "outputs": [
        {
          "output_type": "stream",
          "name": "stdout",
          "text": [
            "Model: \"model\"\n",
            "_________________________________________________________________\n",
            " Layer (type)                Output Shape              Param #   \n",
            "=================================================================\n",
            " input_1 (InputLayer)        [(None, 224, 224, 3)]     0         \n",
            "                                                                 \n",
            " block1_conv1 (Conv2D)       (None, 224, 224, 64)      1792      \n",
            "                                                                 \n",
            " block1_conv2 (Conv2D)       (None, 224, 224, 64)      36928     \n",
            "                                                                 \n",
            " block1_pool (MaxPooling2D)  (None, 112, 112, 64)      0         \n",
            "                                                                 \n",
            " block2_conv1 (Conv2D)       (None, 112, 112, 128)     73856     \n",
            "                                                                 \n",
            " block2_conv2 (Conv2D)       (None, 112, 112, 128)     147584    \n",
            "                                                                 \n",
            " block2_pool (MaxPooling2D)  (None, 56, 56, 128)       0         \n",
            "                                                                 \n",
            " block3_conv1 (Conv2D)       (None, 56, 56, 256)       295168    \n",
            "                                                                 \n",
            " block3_conv2 (Conv2D)       (None, 56, 56, 256)       590080    \n",
            "                                                                 \n",
            " block3_conv3 (Conv2D)       (None, 56, 56, 256)       590080    \n",
            "                                                                 \n",
            " block3_pool (MaxPooling2D)  (None, 28, 28, 256)       0         \n",
            "                                                                 \n",
            " block4_conv1 (Conv2D)       (None, 28, 28, 512)       1180160   \n",
            "                                                                 \n",
            " block4_conv2 (Conv2D)       (None, 28, 28, 512)       2359808   \n",
            "                                                                 \n",
            " block4_conv3 (Conv2D)       (None, 28, 28, 512)       2359808   \n",
            "                                                                 \n",
            " block4_pool (MaxPooling2D)  (None, 14, 14, 512)       0         \n",
            "                                                                 \n",
            " block5_conv1 (Conv2D)       (None, 14, 14, 512)       2359808   \n",
            "                                                                 \n",
            " block5_conv2 (Conv2D)       (None, 14, 14, 512)       2359808   \n",
            "                                                                 \n",
            " block5_conv3 (Conv2D)       (None, 14, 14, 512)       2359808   \n",
            "                                                                 \n",
            " block5_pool (MaxPooling2D)  (None, 7, 7, 512)         0         \n",
            "                                                                 \n",
            " flatten (Flatten)           (None, 25088)             0         \n",
            "                                                                 \n",
            " dense (Dense)               (None, 3)                 75267     \n",
            "                                                                 \n",
            "=================================================================\n",
            "Total params: 14,789,955\n",
            "Trainable params: 75,267\n",
            "Non-trainable params: 14,714,688\n",
            "_________________________________________________________________\n"
          ]
        }
      ],
      "source": [
        "model.summary()"
      ],
      "id": "e11FiA_hWcpe"
    },
    {
      "cell_type": "markdown",
      "metadata": {
        "id": "FDCqqtrsWj0p"
      },
      "source": [
        "**6. Configure The Learning Process**"
      ],
      "id": "FDCqqtrsWj0p"
    },
    {
      "cell_type": "code",
      "execution_count": null,
      "metadata": {
        "id": "LzFvYloeWvjo"
      },
      "outputs": [],
      "source": [
        "model.compile(\n",
        "  loss='categorical_crossentropy',\n",
        "  optimizer='adam',\n",
        "  metrics=['accuracy']\n",
        ")"
      ],
      "id": "LzFvYloeWvjo"
    },
    {
      "cell_type": "markdown",
      "metadata": {
        "id": "sae2vMV2XCRI"
      },
      "source": [
        "**7. Train The Model**"
      ],
      "id": "sae2vMV2XCRI"
    },
    {
      "cell_type": "code",
      "execution_count": 17,
      "metadata": {
        "colab": {
          "base_uri": "https://localhost:8080/",
          "height": 0
        },
        "id": "9YqvVYZ7XFFl",
        "outputId": "a9f7094f-edfb-4564-9785-45e8a7dbb6a1"
      },
      "outputs": [
        {
          "metadata": {
            "tags": null
          },
          "name": "stderr",
          "output_type": "stream",
          "text": [
            "/usr/local/lib/python3.7/dist-packages/ipykernel_launcher.py:6: UserWarning: `Model.fit_generator` is deprecated and will be removed in a future version. Please use `Model.fit`, which supports generators.\n",
            "  \n"
          ]
        },
        {
          "output_type": "stream",
          "name": "stdout",
          "text": [
            "Epoch 1/25\n",
            "98/98 [==============================] - 498s 5s/step - loss: 1.3552 - accuracy: 0.5352 - val_loss: 1.2528 - val_accuracy: 0.5906\n",
            "Epoch 2/25\n",
            "98/98 [==============================] - 421s 4s/step - loss: 0.6244 - accuracy: 0.7600 - val_loss: 0.8677 - val_accuracy: 0.6725\n",
            "Epoch 3/25\n",
            "98/98 [==============================] - 422s 4s/step - loss: 0.4846 - accuracy: 0.8161 - val_loss: 0.8827 - val_accuracy: 0.6784\n",
            "Epoch 4/25\n",
            "98/98 [==============================] - 420s 4s/step - loss: 0.3649 - accuracy: 0.8682 - val_loss: 1.0304 - val_accuracy: 0.6199\n",
            "Epoch 5/25\n",
            "98/98 [==============================] - 417s 4s/step - loss: 0.2899 - accuracy: 0.8968 - val_loss: 0.9003 - val_accuracy: 0.6316\n",
            "Epoch 6/25\n",
            "98/98 [==============================] - 418s 4s/step - loss: 0.3088 - accuracy: 0.8866 - val_loss: 1.0522 - val_accuracy: 0.6667\n",
            "Epoch 7/25\n",
            "98/98 [==============================] - 420s 4s/step - loss: 0.1704 - accuracy: 0.9397 - val_loss: 0.9331 - val_accuracy: 0.7018\n",
            "Epoch 8/25\n",
            "98/98 [==============================] - 423s 4s/step - loss: 0.1787 - accuracy: 0.9377 - val_loss: 0.9979 - val_accuracy: 0.6784\n",
            "Epoch 9/25\n",
            "98/98 [==============================] - 421s 4s/step - loss: 0.1622 - accuracy: 0.9428 - val_loss: 1.0355 - val_accuracy: 0.6959\n",
            "Epoch 10/25\n",
            "98/98 [==============================] - 417s 4s/step - loss: 0.0985 - accuracy: 0.9755 - val_loss: 1.0432 - val_accuracy: 0.6725\n",
            "Epoch 11/25\n",
            "98/98 [==============================] - 423s 4s/step - loss: 0.0962 - accuracy: 0.9683 - val_loss: 1.1221 - val_accuracy: 0.6784\n",
            "Epoch 12/25\n",
            "98/98 [==============================] - 426s 4s/step - loss: 0.0909 - accuracy: 0.9847 - val_loss: 1.1932 - val_accuracy: 0.6608\n",
            "Epoch 13/25\n",
            "98/98 [==============================] - 422s 4s/step - loss: 0.0796 - accuracy: 0.9806 - val_loss: 1.0896 - val_accuracy: 0.6901\n",
            "Epoch 14/25\n",
            "98/98 [==============================] - 421s 4s/step - loss: 0.0625 - accuracy: 0.9867 - val_loss: 1.1103 - val_accuracy: 0.7076\n",
            "Epoch 15/25\n",
            "98/98 [==============================] - 421s 4s/step - loss: 0.0995 - accuracy: 0.9734 - val_loss: 1.3750 - val_accuracy: 0.6667\n",
            "Epoch 16/25\n",
            "98/98 [==============================] - 422s 4s/step - loss: 0.1147 - accuracy: 0.9622 - val_loss: 1.4666 - val_accuracy: 0.6550\n",
            "Epoch 17/25\n",
            "98/98 [==============================] - 423s 4s/step - loss: 0.1107 - accuracy: 0.9755 - val_loss: 1.2316 - val_accuracy: 0.6901\n",
            "Epoch 18/25\n",
            "98/98 [==============================] - 423s 4s/step - loss: 0.0688 - accuracy: 0.9847 - val_loss: 1.2604 - val_accuracy: 0.7076\n",
            "Epoch 19/25\n",
            "98/98 [==============================] - 424s 4s/step - loss: 0.0563 - accuracy: 0.9898 - val_loss: 1.2582 - val_accuracy: 0.6842\n",
            "Epoch 20/25\n",
            "98/98 [==============================] - 426s 4s/step - loss: 0.0415 - accuracy: 0.9939 - val_loss: 1.1941 - val_accuracy: 0.6959\n",
            "Epoch 21/25\n",
            "98/98 [==============================] - 425s 4s/step - loss: 0.0386 - accuracy: 0.9959 - val_loss: 1.2621 - val_accuracy: 0.6901\n",
            "Epoch 22/25\n",
            "98/98 [==============================] - 425s 4s/step - loss: 0.0600 - accuracy: 0.9888 - val_loss: 1.2835 - val_accuracy: 0.6784\n",
            "Epoch 23/25\n",
            "98/98 [==============================] - 425s 4s/step - loss: 0.0519 - accuracy: 0.9888 - val_loss: 1.3538 - val_accuracy: 0.6959\n",
            "Epoch 24/25\n",
            "98/98 [==============================] - 432s 4s/step - loss: 0.1167 - accuracy: 0.9622 - val_loss: 1.5229 - val_accuracy: 0.6667\n",
            "Epoch 25/25\n",
            "98/98 [==============================] - 426s 4s/step - loss: 0.0424 - accuracy: 0.9888 - val_loss: 1.3783 - val_accuracy: 0.6842\n"
          ]
        }
      ],
      "source": [
        "r = model.fit_generator(\n",
        "  training_set,\n",
        "  validation_data=test_set,\n",
        "  epochs=25,\n",
        "  steps_per_epoch=len(training_set),\n",
        "  validation_steps=len(test_set)\n",
        ")"
      ],
      "id": "9YqvVYZ7XFFl"
    },
    {
      "cell_type": "markdown",
      "metadata": {
        "id": "tzbWM_g5TRgm"
      },
      "source": [
        "**8. Save The Model**"
      ],
      "id": "tzbWM_g5TRgm"
    },
    {
      "cell_type": "code",
      "execution_count": 18,
      "metadata": {
        "id": "FUb7o9JnTbqW"
      },
      "outputs": [],
      "source": [
        "from tensorflow.keras.models import load_model\n",
        "\n",
        "model.save('/content/drive/MyDrive/IBM/Model/body.h5')"
      ],
      "id": "FUb7o9JnTbqW"
    },
    {
      "cell_type": "markdown",
      "metadata": {
        "id": "qoAmob5UUKFX"
      },
      "source": [
        "**9. Test The Model**"
      ],
      "id": "qoAmob5UUKFX"
    },
    {
      "cell_type": "code",
      "execution_count": 21,
      "metadata": {
        "id": "DXVAIxOQUTVf"
      },
      "outputs": [],
      "source": [
        "from tensorflow.keras.models import load_model\n",
        "import cv2\n",
        "from skimage.transform import resize"
      ],
      "id": "DXVAIxOQUTVf"
    },
    {
      "cell_type": "code",
      "execution_count": 22,
      "metadata": {
        "id": "n7heHH7gU3Rk"
      },
      "outputs": [],
      "source": [
        "model = load_model('/content/drive/MyDrive/IBM/Model/body.h5')"
      ],
      "id": "n7heHH7gU3Rk"
    },
    {
      "cell_type": "code",
      "execution_count": 23,
      "metadata": {
        "id": "x3DqPP-PVD8r"
      },
      "outputs": [],
      "source": [
        "def detect(frame):\n",
        "  img = cv2.resize(frame,(224,224))\n",
        "  img = cv2.cvtColor(img,cv2.COLOR_BGR2RGB)\n",
        "\n",
        "  if(np.max(img)>1):\n",
        "    img = img/255.0\n",
        "  img = np.array([img])\n",
        "  prediction = model.predict(img)\n",
        "  label = [\"front\",\"rear\",\"side\"]\n",
        "  preds = label[np.argmax(prediction)]\n",
        "  return preds"
      ],
      "id": "x3DqPP-PVD8r"
    },
    {
      "cell_type": "code",
      "execution_count": 24,
      "metadata": {
        "id": "hhjcxXt0YxAT"
      },
      "outputs": [],
      "source": [
        "import numpy as np"
      ],
      "id": "hhjcxXt0YxAT"
    },
    {
      "cell_type": "code",
      "execution_count": 25,
      "metadata": {
        "id": "IQ_Xg18RZQPD",
        "colab": {
          "base_uri": "https://localhost:8080/",
          "height": 0
        },
        "outputId": "1fa3b509-bf08-4f25-bb48-e9d8523562b3"
      },
      "outputs": [
        {
          "output_type": "stream",
          "name": "stdout",
          "text": [
            "1/1 [==============================] - 1s 536ms/step\n",
            "side\n"
          ]
        }
      ],
      "source": [
        "data = \"/content/drive/MyDrive/Car_damage/level/training/01-minor/0008.JPEG\"\n",
        "image = cv2.imread(data)\n",
        "print(detect(image))"
      ],
      "id": "IQ_Xg18RZQPD"
    },
    {
      "cell_type": "markdown",
      "metadata": {
        "id": "83pyn2om9qiY"
      },
      "source": [
        "#*FOR LEVEL* *DAMAGE*"
      ],
      "id": "83pyn2om9qiY"
    },
    {
      "cell_type": "markdown",
      "metadata": {
        "id": "JxzqUpXR9ykV"
      },
      "source": [
        "#**IMAGE PRE PROCESSING**"
      ],
      "id": "JxzqUpXR9ykV"
    },
    {
      "cell_type": "markdown",
      "metadata": {
        "id": "6O9D5Xc4-B5V"
      },
      "source": [
        "**1. Import The ImageDataGenerator Library**"
      ],
      "id": "6O9D5Xc4-B5V"
    },
    {
      "cell_type": "code",
      "execution_count": null,
      "metadata": {
        "id": "D6OypuUm-YLn"
      },
      "outputs": [],
      "source": [
        "from tensorflow.keras.preprocessing.image import ImageDataGenerator"
      ],
      "id": "D6OypuUm-YLn"
    },
    {
      "cell_type": "markdown",
      "metadata": {
        "id": "88kJRU3b-o1O"
      },
      "source": [
        "**2. Configure ImageDataGenerator Class**"
      ],
      "id": "88kJRU3b-o1O"
    },
    {
      "cell_type": "code",
      "execution_count": null,
      "metadata": {
        "id": "570kr4_9-yAs"
      },
      "outputs": [],
      "source": [
        "train_datagen = ImageDataGenerator(rescale = 1./255,\n",
        "                                   shear_range = 0.1,\n",
        "                                   zoom_range = 0.1,\n",
        "                                   horizontal_flip = True)\n",
        "\n",
        "test_datagen = ImageDataGenerator(rescale = 1./255)"
      ],
      "id": "570kr4_9-yAs"
    },
    {
      "cell_type": "markdown",
      "metadata": {
        "id": "v12gjWvx-7If"
      },
      "source": [
        "**3. Apply ImageDataGenerator Functionality To Trainset And Testset**"
      ],
      "id": "v12gjWvx-7If"
    },
    {
      "cell_type": "code",
      "execution_count": 26,
      "metadata": {
        "id": "QqdWVDkO_IQP",
        "colab": {
          "base_uri": "https://localhost:8080/",
          "height": 0
        },
        "outputId": "ab2e1c40-bc9f-48de-ff07-cbe4d6522a09"
      },
      "outputs": [
        {
          "output_type": "stream",
          "name": "stdout",
          "text": [
            "Found 979 images belonging to 3 classes.\n",
            "Found 979 images belonging to 3 classes.\n"
          ]
        }
      ],
      "source": [
        "training_set = train_datagen.flow_from_directory('/content/drive/MyDrive/Car_damage/level/training',\n",
        "                                                 target_size = (224, 224),\n",
        "                                                 batch_size = 10,\n",
        "                                                 class_mode = 'categorical')\n",
        "test_set = test_datagen.flow_from_directory('/content/drive/MyDrive/Car_damage/level/training',\n",
        "                                            target_size = (224, 224),\n",
        "                                            batch_size = 10,\n",
        "                                            class_mode = 'categorical')"
      ],
      "id": "QqdWVDkO_IQP"
    },
    {
      "cell_type": "markdown",
      "metadata": {
        "id": "yRiwIscQ_nFm"
      },
      "source": [
        "#**MODEL BUILDING**"
      ],
      "id": "yRiwIscQ_nFm"
    },
    {
      "cell_type": "markdown",
      "metadata": {
        "id": "tSPaBbBA_wQJ"
      },
      "source": [
        "**1. Importing The Model Building Libraries**"
      ],
      "id": "tSPaBbBA_wQJ"
    },
    {
      "cell_type": "code",
      "execution_count": 27,
      "metadata": {
        "id": "l4zO4D_s_58s"
      },
      "outputs": [],
      "source": [
        "import tensorflow as tf\n",
        "from tensorflow.keras.layers import Input, Lambda, Dense, Flatten\n",
        "from tensorflow.keras.models import Model\n",
        "from tensorflow.keras.applications.vgg16 import VGG16\n",
        "from tensorflow.keras.applications.vgg19 import VGG19\n",
        "from tensorflow.keras.preprocessing import image\n",
        "from tensorflow.keras.preprocessing.image import ImageDataGenerator,load_img\n",
        "from tensorflow.keras.models import Sequential\n",
        "import numpy as np\n",
        "from glob import glob"
      ],
      "id": "l4zO4D_s_58s"
    },
    {
      "cell_type": "markdown",
      "metadata": {
        "id": "sLQO6hQzABW-"
      },
      "source": [
        "**2. Loading The Model**"
      ],
      "id": "sLQO6hQzABW-"
    },
    {
      "cell_type": "code",
      "execution_count": 28,
      "metadata": {
        "id": "DVhzqTi_AOgf"
      },
      "outputs": [],
      "source": [
        "IMAGE_SIZE = [224, 224]\n",
        "\n",
        "train_path = '/content/drive/MyDrive/Car_damage/level/training'\n",
        "valid_path = '/content/drive/MyDrive/Car_damage/level/training'"
      ],
      "id": "DVhzqTi_AOgf"
    },
    {
      "cell_type": "code",
      "execution_count": 29,
      "metadata": {
        "id": "xvUbw2bBAob8"
      },
      "outputs": [],
      "source": [
        "vgg16 = VGG16(input_shape=IMAGE_SIZE + [3], weights='imagenet', include_top=False)"
      ],
      "id": "xvUbw2bBAob8"
    },
    {
      "cell_type": "markdown",
      "metadata": {
        "id": "Pen9rH8QArho"
      },
      "source": [
        "**3. Adding Flatten Layer**"
      ],
      "id": "Pen9rH8QArho"
    },
    {
      "cell_type": "code",
      "execution_count": 30,
      "metadata": {
        "id": "kU4mdZ9KA8n0"
      },
      "outputs": [],
      "source": [
        "for layer in vgg16.layers:\n",
        "    layer.trainable = False"
      ],
      "id": "kU4mdZ9KA8n0"
    },
    {
      "cell_type": "code",
      "execution_count": 32,
      "metadata": {
        "id": "hx8t99hdBMUU"
      },
      "outputs": [],
      "source": [
        "folders = glob('/content/drive/MyDrive/Car_damage/level/training/*')"
      ],
      "id": "hx8t99hdBMUU"
    },
    {
      "cell_type": "code",
      "execution_count": 31,
      "metadata": {
        "colab": {
          "base_uri": "https://localhost:8080/",
          "height": 0
        },
        "id": "NLDa6I8dBY5O",
        "outputId": "61bef1cd-5e43-4266-c70a-c15fcd911fc3"
      },
      "outputs": [
        {
          "output_type": "execute_result",
          "data": {
            "text/plain": [
              "['/content/drive/MyDrive/Car_damage/body/training/02-side',\n",
              " '/content/drive/MyDrive/Car_damage/body/training/01-rear',\n",
              " '/content/drive/MyDrive/Car_damage/body/training/00-front']"
            ]
          },
          "metadata": {},
          "execution_count": 31
        }
      ],
      "source": [
        "folders"
      ],
      "id": "NLDa6I8dBY5O"
    },
    {
      "cell_type": "code",
      "execution_count": 33,
      "metadata": {
        "id": "t6ZisI-9Bgsf"
      },
      "outputs": [],
      "source": [
        "x = Flatten()(vgg16.output)"
      ],
      "id": "t6ZisI-9Bgsf"
    },
    {
      "cell_type": "code",
      "execution_count": 34,
      "metadata": {
        "colab": {
          "base_uri": "https://localhost:8080/",
          "height": 0
        },
        "id": "qwf3FYijBohw",
        "outputId": "47cef64c-ab2f-4763-e871-a7d0d4741945"
      },
      "outputs": [
        {
          "output_type": "execute_result",
          "data": {
            "text/plain": [
              "3"
            ]
          },
          "metadata": {},
          "execution_count": 34
        }
      ],
      "source": [
        "len(folders)"
      ],
      "id": "qwf3FYijBohw"
    },
    {
      "cell_type": "markdown",
      "metadata": {
        "id": "HU2EsxVlBxnp"
      },
      "source": [
        "**4. Adding Output Layer**"
      ],
      "id": "HU2EsxVlBxnp"
    },
    {
      "cell_type": "code",
      "execution_count": 35,
      "metadata": {
        "id": "mmrdVCUmB6PD"
      },
      "outputs": [],
      "source": [
        "prediction = Dense(len(folders), activation='softmax')(x)"
      ],
      "id": "mmrdVCUmB6PD"
    },
    {
      "cell_type": "markdown",
      "metadata": {
        "id": "IkXC2ROACAZA"
      },
      "source": [
        "**5. Creating A Model Object**"
      ],
      "id": "IkXC2ROACAZA"
    },
    {
      "cell_type": "code",
      "execution_count": 36,
      "metadata": {
        "id": "E8doYSknCJ0Y"
      },
      "outputs": [],
      "source": [
        "model = Model(inputs=vgg16.input, outputs=prediction)"
      ],
      "id": "E8doYSknCJ0Y"
    },
    {
      "cell_type": "code",
      "execution_count": 37,
      "metadata": {
        "colab": {
          "base_uri": "https://localhost:8080/",
          "height": 0
        },
        "id": "WNKbr6J6CwbX",
        "outputId": "d1bcf630-9c8d-419c-b3f5-e732830d1182"
      },
      "outputs": [
        {
          "output_type": "stream",
          "name": "stdout",
          "text": [
            "Model: \"model_1\"\n",
            "_________________________________________________________________\n",
            " Layer (type)                Output Shape              Param #   \n",
            "=================================================================\n",
            " input_2 (InputLayer)        [(None, 224, 224, 3)]     0         \n",
            "                                                                 \n",
            " block1_conv1 (Conv2D)       (None, 224, 224, 64)      1792      \n",
            "                                                                 \n",
            " block1_conv2 (Conv2D)       (None, 224, 224, 64)      36928     \n",
            "                                                                 \n",
            " block1_pool (MaxPooling2D)  (None, 112, 112, 64)      0         \n",
            "                                                                 \n",
            " block2_conv1 (Conv2D)       (None, 112, 112, 128)     73856     \n",
            "                                                                 \n",
            " block2_conv2 (Conv2D)       (None, 112, 112, 128)     147584    \n",
            "                                                                 \n",
            " block2_pool (MaxPooling2D)  (None, 56, 56, 128)       0         \n",
            "                                                                 \n",
            " block3_conv1 (Conv2D)       (None, 56, 56, 256)       295168    \n",
            "                                                                 \n",
            " block3_conv2 (Conv2D)       (None, 56, 56, 256)       590080    \n",
            "                                                                 \n",
            " block3_conv3 (Conv2D)       (None, 56, 56, 256)       590080    \n",
            "                                                                 \n",
            " block3_pool (MaxPooling2D)  (None, 28, 28, 256)       0         \n",
            "                                                                 \n",
            " block4_conv1 (Conv2D)       (None, 28, 28, 512)       1180160   \n",
            "                                                                 \n",
            " block4_conv2 (Conv2D)       (None, 28, 28, 512)       2359808   \n",
            "                                                                 \n",
            " block4_conv3 (Conv2D)       (None, 28, 28, 512)       2359808   \n",
            "                                                                 \n",
            " block4_pool (MaxPooling2D)  (None, 14, 14, 512)       0         \n",
            "                                                                 \n",
            " block5_conv1 (Conv2D)       (None, 14, 14, 512)       2359808   \n",
            "                                                                 \n",
            " block5_conv2 (Conv2D)       (None, 14, 14, 512)       2359808   \n",
            "                                                                 \n",
            " block5_conv3 (Conv2D)       (None, 14, 14, 512)       2359808   \n",
            "                                                                 \n",
            " block5_pool (MaxPooling2D)  (None, 7, 7, 512)         0         \n",
            "                                                                 \n",
            " flatten_1 (Flatten)         (None, 25088)             0         \n",
            "                                                                 \n",
            " dense_1 (Dense)             (None, 3)                 75267     \n",
            "                                                                 \n",
            "=================================================================\n",
            "Total params: 14,789,955\n",
            "Trainable params: 75,267\n",
            "Non-trainable params: 14,714,688\n",
            "_________________________________________________________________\n"
          ]
        }
      ],
      "source": [
        "model.summary()"
      ],
      "id": "WNKbr6J6CwbX"
    },
    {
      "cell_type": "markdown",
      "metadata": {
        "id": "DdtupHO0C6al"
      },
      "source": [
        "**6. Configure The Learning Process**"
      ],
      "id": "DdtupHO0C6al"
    },
    {
      "cell_type": "code",
      "execution_count": 38,
      "metadata": {
        "id": "cAkUHcJEDEJ6"
      },
      "outputs": [],
      "source": [
        "model.compile(\n",
        "  loss='categorical_crossentropy',\n",
        "  optimizer='adam',\n",
        "  metrics=['accuracy']\n",
        ")"
      ],
      "id": "cAkUHcJEDEJ6"
    },
    {
      "cell_type": "markdown",
      "metadata": {
        "id": "Y0X3zbBRDGE_"
      },
      "source": [
        "**7. Train The Model**"
      ],
      "id": "Y0X3zbBRDGE_"
    },
    {
      "cell_type": "code",
      "execution_count": null,
      "metadata": {
        "colab": {
          "base_uri": "https://localhost:8080/"
        },
        "id": "fCiQCMTjDQdE",
        "outputId": "45f257e3-96d9-4d20-d32f-ad2c786d273f"
      },
      "outputs": [
        {
          "name": "stderr",
          "output_type": "stream",
          "text": [
            "/usr/local/lib/python3.7/dist-packages/ipykernel_launcher.py:6: UserWarning: `Model.fit_generator` is deprecated and will be removed in a future version. Please use `Model.fit`, which supports generators.\n",
            "  \n"
          ]
        },
        {
          "name": "stdout",
          "output_type": "stream",
          "text": [
            "Epoch 1/25\n",
            "98/98 [==============================] - 615s 6s/step - loss: 1.2465 - accuracy: 0.5516 - val_loss: 1.0659 - val_accuracy: 0.5731\n",
            "Epoch 2/25\n",
            "98/98 [==============================] - 604s 6s/step - loss: 0.6654 - accuracy: 0.7549 - val_loss: 1.0368 - val_accuracy: 0.6316\n",
            "Epoch 3/25\n",
            "98/98 [==============================] - 604s 6s/step - loss: 0.5950 - accuracy: 0.7630 - val_loss: 1.1309 - val_accuracy: 0.6257\n",
            "Epoch 4/25\n",
            "98/98 [==============================] - 601s 6s/step - loss: 0.4964 - accuracy: 0.8069 - val_loss: 1.1262 - val_accuracy: 0.6082\n",
            "Epoch 5/25\n",
            "98/98 [==============================] - 603s 6s/step - loss: 0.3559 - accuracy: 0.8672 - val_loss: 1.1408 - val_accuracy: 0.6316\n",
            "Epoch 6/25\n",
            "98/98 [==============================] - 604s 6s/step - loss: 0.2425 - accuracy: 0.9152 - val_loss: 1.1566 - val_accuracy: 0.5789\n",
            "Epoch 7/25\n",
            "98/98 [==============================] - 604s 6s/step - loss: 0.1964 - accuracy: 0.9367 - val_loss: 1.1200 - val_accuracy: 0.6199\n",
            "Epoch 8/25\n",
            "98/98 [==============================] - 598s 6s/step - loss: 0.2119 - accuracy: 0.9203 - val_loss: 1.1181 - val_accuracy: 0.6316\n",
            "Epoch 9/25\n",
            "98/98 [==============================] - 597s 6s/step - loss: 0.1111 - accuracy: 0.9622 - val_loss: 1.3554 - val_accuracy: 0.5614\n",
            "Epoch 10/25\n",
            "98/98 [==============================] - 595s 6s/step - loss: 0.1394 - accuracy: 0.9438 - val_loss: 1.2256 - val_accuracy: 0.6082\n",
            "Epoch 11/25\n",
            "98/98 [==============================] - 598s 6s/step - loss: 0.1167 - accuracy: 0.9602 - val_loss: 1.3020 - val_accuracy: 0.6374\n",
            "Epoch 12/25\n",
            "98/98 [==============================] - 598s 6s/step - loss: 0.0823 - accuracy: 0.9755 - val_loss: 1.3000 - val_accuracy: 0.6550\n",
            "Epoch 13/25\n",
            "98/98 [==============================] - 602s 6s/step - loss: 0.1062 - accuracy: 0.9632 - val_loss: 1.2962 - val_accuracy: 0.6433\n",
            "Epoch 14/25\n",
            "98/98 [==============================] - 599s 6s/step - loss: 0.0717 - accuracy: 0.9775 - val_loss: 1.3089 - val_accuracy: 0.6491\n",
            "Epoch 15/25\n",
            "98/98 [==============================] - 598s 6s/step - loss: 0.0692 - accuracy: 0.9826 - val_loss: 1.2885 - val_accuracy: 0.6023\n",
            "Epoch 16/25\n",
            "98/98 [==============================] - 595s 6s/step - loss: 0.0449 - accuracy: 0.9898 - val_loss: 1.7932 - val_accuracy: 0.5673\n",
            "Epoch 17/25\n",
            "98/98 [==============================] - 609s 6s/step - loss: 0.0522 - accuracy: 0.9867 - val_loss: 1.2697 - val_accuracy: 0.6433\n",
            "Epoch 18/25\n",
            "98/98 [==============================] - 607s 6s/step - loss: 0.0386 - accuracy: 0.9969 - val_loss: 1.5100 - val_accuracy: 0.6023\n",
            "Epoch 19/25\n",
            "98/98 [==============================] - 595s 6s/step - loss: 0.0381 - accuracy: 0.9939 - val_loss: 1.2199 - val_accuracy: 0.6784\n",
            "Epoch 20/25\n",
            "98/98 [==============================] - 596s 6s/step - loss: 0.0196 - accuracy: 1.0000 - val_loss: 1.2907 - val_accuracy: 0.6433\n",
            "Epoch 21/25\n",
            "98/98 [==============================] - 597s 6s/step - loss: 0.0394 - accuracy: 0.9928 - val_loss: 1.2678 - val_accuracy: 0.6491\n",
            "Epoch 22/25\n",
            "98/98 [==============================] - 595s 6s/step - loss: 0.0377 - accuracy: 0.9908 - val_loss: 1.4709 - val_accuracy: 0.6316\n",
            "Epoch 23/25\n",
            "98/98 [==============================] - 595s 6s/step - loss: 0.0387 - accuracy: 0.9918 - val_loss: 1.3320 - val_accuracy: 0.6257\n",
            "Epoch 24/25\n",
            "98/98 [==============================] - 596s 6s/step - loss: 0.0279 - accuracy: 0.9949 - val_loss: 1.6355 - val_accuracy: 0.6433\n",
            "Epoch 25/25\n",
            "98/98 [==============================] - 603s 6s/step - loss: 0.0271 - accuracy: 0.9939 - val_loss: 1.3182 - val_accuracy: 0.6608\n"
          ]
        }
      ],
      "source": [
        "r = model.fit_generator(\n",
        "  training_set,\n",
        "  validation_data=test_set,\n",
        "  epochs=25,\n",
        "  steps_per_epoch=len(training_set),\n",
        "  validation_steps=len(test_set)\n",
        ")"
      ],
      "id": "fCiQCMTjDQdE"
    },
    {
      "cell_type": "markdown",
      "metadata": {
        "id": "GHqH-yFH9vAD"
      },
      "source": [
        "**8. Save The Model**"
      ],
      "id": "GHqH-yFH9vAD"
    },
    {
      "cell_type": "code",
      "execution_count": 39,
      "metadata": {
        "id": "1DUIYfl098qy"
      },
      "outputs": [],
      "source": [
        "from tensorflow.keras.models import load_model\n",
        "\n",
        "model.save('/content/drive/MyDrive/IBM/Model/level.h5')"
      ],
      "id": "1DUIYfl098qy"
    },
    {
      "cell_type": "markdown",
      "metadata": {
        "id": "0rDBBJ21-NlK"
      },
      "source": [
        "**9. Test The Model**"
      ],
      "id": "0rDBBJ21-NlK"
    },
    {
      "cell_type": "code",
      "execution_count": 40,
      "metadata": {
        "id": "yzVhwanB-PyQ"
      },
      "outputs": [],
      "source": [
        "from tensorflow.keras.models import load_model\n",
        "import cv2\n",
        "from skimage.transform import resize"
      ],
      "id": "yzVhwanB-PyQ"
    },
    {
      "cell_type": "code",
      "execution_count": 41,
      "metadata": {
        "id": "CaL4AwBU-hyZ"
      },
      "outputs": [],
      "source": [
        "model = load_model('/content/drive/MyDrive/IBM/Model/level.h5')"
      ],
      "id": "CaL4AwBU-hyZ"
    },
    {
      "cell_type": "code",
      "execution_count": 42,
      "metadata": {
        "id": "0VUKbkxy-04W"
      },
      "outputs": [],
      "source": [
        "def detect(frame):\n",
        "  img = cv2.resize(frame,(224,224))\n",
        "  img = cv2.cvtColor(img,cv2.COLOR_BGR2RGB)\n",
        "\n",
        "  if(np.max(img)>1):\n",
        "    img = img/255.0\n",
        "  img = np.array([img])\n",
        "  prediction = model.predict(img)\n",
        "  label = [\"minor\",\"moderate\",\"severe\"]\n",
        "  preds = label[np.argmax(prediction)]\n",
        "  return preds"
      ],
      "id": "0VUKbkxy-04W"
    },
    {
      "cell_type": "code",
      "execution_count": 43,
      "metadata": {
        "id": "cO8V8Ff0_SiS"
      },
      "outputs": [],
      "source": [
        "import numpy as np"
      ],
      "id": "cO8V8Ff0_SiS"
    },
    {
      "cell_type": "code",
      "execution_count": 44,
      "metadata": {
        "colab": {
          "base_uri": "https://localhost:8080/",
          "height": 0
        },
        "id": "5LlmY49e_U5Q",
        "outputId": "b97bb969-0097-4704-b790-2993d3813ce2"
      },
      "outputs": [
        {
          "output_type": "stream",
          "name": "stdout",
          "text": [
            "1/1 [==============================] - 1s 510ms/step\n",
            "severe\n"
          ]
        }
      ],
      "source": [
        "data = \"/content/drive/MyDrive/Car_damage/level/validation/01-minor/0002.JPEG\"\n",
        "image = cv2.imread(data)\n",
        "print(detect(image))"
      ],
      "id": "5LlmY49e_U5Q"
    }
  ],
  "metadata": {
    "colab": {
      "collapsed_sections": [],
      "provenance": []
    },
    "kernelspec": {
      "display_name": "Python 3.10.8 64-bit",
      "language": "python",
      "name": "python3"
    },
    "language_info": {
      "codemirror_mode": {
        "name": "ipython",
        "version": 3
      },
      "file_extension": ".py",
      "mimetype": "text/x-python",
      "name": "python",
      "nbconvert_exporter": "python",
      "pygments_lexer": "ipython3",
      "version": "3.10.8"
    },
    "vscode": {
      "interpreter": {
        "hash": "7b5ef6b551024c98fdd1172c006d1f07261c9b107ca28d94021bf8a6977c4fdb"
      }
    }
  },
  "nbformat": 4,
  "nbformat_minor": 5
}